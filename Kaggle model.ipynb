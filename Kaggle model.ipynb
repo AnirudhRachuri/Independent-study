{
 "cells": [
  {
   "cell_type": "code",
   "execution_count": 2,
   "metadata": {},
   "outputs": [],
   "source": [
    "from numpy import genfromtxt\n",
    "import pandas as pd\n",
    "from sklearn.feature_extraction.text import CountVectorizer\n",
    "from sklearn.linear_model import LogisticRegression\n",
    "from __future__ import division\n",
    "from __future__ import print_function\n",
    "from __future__ import unicode_literals\n",
    "\n",
    "import argparse\n",
    "import codecs\n",
    "import numpy as np\n",
    "import os\n",
    "import shutil\n",
    "import torch\n",
    "import yaml\n",
    "from datetime import datetime\n",
    "from torch.utils.data.sampler import RandomSampler\n",
    "from torch.autograd import Variable\n"
   ]
  },
  {
   "cell_type": "code",
   "execution_count": 3,
   "metadata": {},
   "outputs": [],
   "source": [
    "data = pd.read_csv('Combined_News_DJIA.csv')"
   ]
  },
  {
   "cell_type": "code",
   "execution_count": 4,
   "metadata": {},
   "outputs": [
    {
     "name": "stdout",
     "output_type": "stream",
     "text": [
      "(1611, 27)\n",
      "(378, 27)\n"
     ]
    }
   ],
   "source": [
    "train = data.iloc[0:1611]\n",
    "test = data[1611:]\n",
    "print(train.shape)\n",
    "print(test.shape)"
   ]
  },
  {
   "cell_type": "code",
   "execution_count": 5,
   "metadata": {},
   "outputs": [
    {
     "name": "stdout",
     "output_type": "stream",
     "text": [
      "(1611, 25)\n",
      "[0 1 0 0 1 1 0 0 1 1]\n"
     ]
    }
   ],
   "source": [
    "trainheadlines = data.iloc[0:1611, 2:27].values\n",
    "trainLabels = data.iloc[0:1611, 1].values\n",
    "testheadlines = data.iloc[1611:, 2:27].values\n",
    "testLabels = data.iloc[1611:, 1].values\n",
    "\n",
    "print(trainheadlines.shape)\n",
    "print(trainLabels[:10])"
   ]
  },
  {
   "cell_type": "code",
   "execution_count": 8,
   "metadata": {},
   "outputs": [
    {
     "name": "stdout",
     "output_type": "stream",
     "text": [
      "(1611, 14073)\n"
     ]
    }
   ],
   "source": [
    "trainVocab = []\n",
    "for row in range(0,len(train.index)):\n",
    "    trainVocab.append(' '.join(str(x) for x in train.iloc[row,2:27]))\n",
    "\n",
    "vectorizer = CountVectorizer(min_df = 3)\n",
    "basictrain = vectorizer.fit_transform(trainVocab)\n",
    "print(basictrain.shape)"
   ]
  },
  {
   "cell_type": "code",
   "execution_count": 6,
   "metadata": {},
   "outputs": [],
   "source": [
    "# trainheadlines = []\n",
    "# trainLabels = []\n",
    "# for row in range(0,len(train.index)):\n",
    "#     trainheadlines.append(' '.join(str(x) for x in train.iloc[row,2:27]))\n",
    "#     trainLabels.append(train.iloc[row,1])\n",
    "\n",
    "# basicvectorizer = CountVectorizer()\n",
    "# basictrain = basicvectorizer.fit_transform(trainheadlines)\n",
    "# print(basictrain.shape)\n",
    "\n",
    "# testheadlines = []\n",
    "# testLabels = []\n",
    "# for row in range(0,len(test.index)):\n",
    "#     testheadlines.append(' '.join(str(x) for x in test.iloc[row,2:27]))\n",
    "#     testLabels.append(test.iloc[row,1])\n",
    "\n",
    "# basictest = basicvectorizer.transform(testheadlines)"
   ]
  },
  {
   "cell_type": "code",
   "execution_count": 8,
   "metadata": {},
   "outputs": [],
   "source": [
    "def transformHeadlines(headlines):\n",
    "    outputHeadlines = np.empty([headlines.shape[0], 5])\n",
    "    for i, headline in enumerate(headlines):\n",
    "        outputHeadline = [vectorizer.vocabulary_[x] if x in vectorizer.vocabulary_ else -1 for x in vectorizer.build_tokenizer()(headline.lower())]\n",
    "        `\n",
    "#         outputHeadlines = np.vstack([outputHeadlines, outputHeadline])\n",
    "#         print(headline)\n",
    "        outputHeadlines[i] = outputHeadline[:5]\n",
    "        \n",
    "    return np.asarray(outputHeadlines)\n",
    "        \n",
    "#     print('shape', outputHeadlines.shape)\n",
    "#     print(len(outputHeadlines))\n"
   ]
  },
  {
   "cell_type": "code",
   "execution_count": 9,
   "metadata": {},
   "outputs": [],
   "source": [
    "import torch\n",
    "import torch.nn.functional as F\n",
    "from torch import nn\n",
    "from torch.autograd import Variable\n",
    "from torch.nn.utils.rnn import pack_padded_sequence, pad_packed_sequence\n",
    "import tensorflow as tf\n",
    "class LSTMLayer(nn.Module):\n",
    "    def __init__(self, input_dim, output_dim):\n",
    "        super(LSTMLayer, self).__init__()\n",
    "        self.output_dim = output_dim\n",
    "        self.lstmLayers = []\n",
    "        for i in range(25):\n",
    "            self.lstmLayers.append(nn.LSTM(input_dim, output_dim))\n",
    "\n",
    "\n",
    "    def forward(self, headlines, hiddens = None):\n",
    "        outputs = []\n",
    "        new_hiddens = []\n",
    "        if hiddens is None:\n",
    "            hiddens = (Variable(torch.zeros(25, 1, 1, self.output_dim)), Variable(torch.zeros(25, 1, 1, self.output_dim)))\n",
    "#         print(\"hiddens.size\", hiddens[1][0].size())\n",
    "        for i, headline in enumerate(headlines):\n",
    "#             print(np.asarray([headline]).type)\n",
    "#             print(torch.from_numpy(np.asarray([headline])).float())\n",
    "#             print(Variable(torch.from_numpy(np.asarray([headline]))).view(1,1,1))\n",
    "            output, (hidden, cell) = self.lstmLayers[i](Variable(torch.from_numpy(np.asarray([headline])).float()).view(1,1,1), (hiddens[0][i], hiddens[1][i]))\n",
    "            outputs.append(output)\n",
    "            new_hiddens.append((hidden, output))\n",
    "        return outputs, new_hiddens\n",
    "\n",
    "\n",
    "\n",
    "\n",
    "class PredictLayer(nn.Module):\n",
    "    def __init__(self, input_dim):\n",
    "        super(PredictLayer, self).__init__()\n",
    "        # self.output_dim = output_dim\n",
    "        # self.lstmLayers = []\n",
    "        # for i in range(25):\n",
    "        #     self.lstmLayers.append(nn.LSTM(input_dim, output_dim))\n",
    "        self.input_dim = input_dim\n",
    "        self.maxPool = nn.MaxPool1d(25)\n",
    "        self.fc = nn.Linear(input_dim, 2)\n",
    "\n",
    "\n",
    "    def forward(self, encodedHeadlines):\n",
    "        permuted = encodedHeadlines.permute(1, 2, 3, 0).view(1, input_dim, -1)\n",
    "        maxPooled = self.maxPool(permuted)\n",
    "        return F.log_softmax(maxPooled[0], dim=-1)"
   ]
  },
  {
   "cell_type": "code",
   "execution_count": 10,
   "metadata": {},
   "outputs": [
    {
     "name": "stdout",
     "output_type": "stream",
     "text": [
      "b'Why wont America and Nato help us? If they wont help us now, why did we help them in Iraq?'\n",
      "['why', 'wont', 'america', 'and', 'nato', 'help', 'us', 'if', 'they', 'wont', 'help', 'us', 'now', 'why', 'did', 'we', 'help', 'them', 'in', 'iraq']\n",
      "(25, 5)\n",
      "here [ 30957.   4899.  15333.  12121.  20134.  30884.  24571.   2170.  30829.\n",
      "  12120.  24571.   1241.  25658.   9225.  28343.  15133.   8939.  24237.\n",
      "   5793.  30614.  15134.  24571.  21144.  24571.  26323.]\n"
     ]
    },
    {
     "ename": "IndexError",
     "evalue": "index 5 is out of bounds for axis 1 with size 5",
     "output_type": "error",
     "traceback": [
      "\u001b[1;31m---------------------------------------------------------------------------\u001b[0m",
      "\u001b[1;31mIndexError\u001b[0m                                Traceback (most recent call last)",
      "\u001b[1;32m<ipython-input-10-6541ac4524f5>\u001b[0m in \u001b[0;36m<module>\u001b[1;34m()\u001b[0m\n\u001b[0;32m     10\u001b[0m \u001b[1;32mfor\u001b[0m \u001b[0mi\u001b[0m \u001b[1;32min\u001b[0m \u001b[0mrange\u001b[0m\u001b[1;33m(\u001b[0m\u001b[1;36m10\u001b[0m\u001b[1;33m)\u001b[0m\u001b[1;33m:\u001b[0m\u001b[1;33m\u001b[0m\u001b[0m\n\u001b[0;32m     11\u001b[0m \u001b[1;31m#     print(\"word\", word)\u001b[0m\u001b[1;33m\u001b[0m\u001b[1;33m\u001b[0m\u001b[0m\n\u001b[1;32m---> 12\u001b[1;33m     \u001b[0moutputs\u001b[0m\u001b[1;33m,\u001b[0m \u001b[0mnew_hiddens\u001b[0m \u001b[1;33m=\u001b[0m \u001b[0mlstmLayer\u001b[0m\u001b[1;33m(\u001b[0m\u001b[0minputToModel\u001b[0m\u001b[1;33m[\u001b[0m\u001b[1;33m:\u001b[0m\u001b[1;33m,\u001b[0m \u001b[0mi\u001b[0m\u001b[1;33m]\u001b[0m\u001b[1;33m)\u001b[0m\u001b[1;33m\u001b[0m\u001b[0m\n\u001b[0m\u001b[0;32m     13\u001b[0m \u001b[1;31m#     print(new_hiddens)\u001b[0m\u001b[1;33m\u001b[0m\u001b[1;33m\u001b[0m\u001b[0m\n\u001b[0;32m     14\u001b[0m \u001b[0mlog_probs\u001b[0m \u001b[1;33m=\u001b[0m \u001b[0mpredictLayer\u001b[0m\u001b[1;33m(\u001b[0m\u001b[0mnew_hiddens\u001b[0m\u001b[1;33m)\u001b[0m\u001b[1;33m\u001b[0m\u001b[0m\n",
      "\u001b[1;31mIndexError\u001b[0m: index 5 is out of bounds for axis 1 with size 5"
     ]
    }
   ],
   "source": [
    "lstmLayer = LSTMLayer(1, 30)\n",
    "predictLayer = PredictLayer(30)\n",
    "\n",
    "sample = trainheadlines[1]\n",
    "print(sample[0])\n",
    "print(vectorizer.build_tokenizer()(sample[0].lower()))\n",
    "inputToModel = transformHeadlines(sample)\n",
    "print(inputToModel.shape)\n",
    "print('here', inputToModel[:,0])\n",
    "for i in range(10):\n",
    "#     print(\"word\", word)\n",
    "    outputs, new_hiddens = lstmLayer(inputToModel[:, i])\n",
    "#     print(new_hiddens)\n",
    "log_probs = predictLayer(new_hiddens)\n",
    "print(log_probs)"
   ]
  },
  {
   "cell_type": "code",
   "execution_count": null,
   "metadata": {},
   "outputs": [],
   "source": []
  }
 ],
 "metadata": {
  "kernelspec": {
   "display_name": "Python [conda env:tf-cpu]",
   "language": "python",
   "name": "conda-env-tf-cpu-py"
  },
  "language_info": {
   "codemirror_mode": {
    "name": "ipython",
    "version": 3
   },
   "file_extension": ".py",
   "mimetype": "text/x-python",
   "name": "python",
   "nbconvert_exporter": "python",
   "pygments_lexer": "ipython3",
   "version": "3.5.4"
  }
 },
 "nbformat": 4,
 "nbformat_minor": 2
}
